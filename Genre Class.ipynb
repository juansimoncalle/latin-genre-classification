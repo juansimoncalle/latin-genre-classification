{
 "cells": [
  {
   "cell_type": "code",
   "execution_count": 1,
   "id": "3f59d94a",
   "metadata": {},
   "outputs": [],
   "source": [
    "import os\n",
    "import librosa \n",
    "import json \n",
    "\n",
    "data = {\"genres\" : [], \"mfccs\": [],\"zrc\":[], \"labels\" : [] }\n",
    "\n",
    "folder = r\"PATH_TO_DATA\"\n",
    "filepaths = []\n",
    "cur_label = -1\n",
    "num_seg = 5\n",
    "json_path = \"data.json\"\n",
    "\n",
    "SAMPLE_RATE = 22050\n",
    "AUDIO_TIME = 30\n",
    "SAMPLES_PER_SONG = int(SAMPLE_RATE * AUDIO_TIME) \n",
    "SAMPLES_PER_SEGMENT = int(SAMPLES_PER_SONG / num_seg)\n",
    "\n",
    "# Go through all the folders\n",
    "for subdir, dirs, files in os.walk(folder):\n",
    "    for file in files:\n",
    "        if file.lower().endswith('.mp3'):\n",
    "            cur_genre = subdir.split(\"\\\\\")[-1]\n",
    "            \n",
    "            # Save the name of the cur genre in the genres \n",
    "            if subdir.split(\"\\\\\")[-1] not in data[\"genres\"]:\n",
    "                data[\"genres\"].append(cur_genre)\n",
    "                cur_label += 1\n",
    "                \n",
    "            # Get the mfcc for the current file \n",
    "            audio,sr = librosa.load(os.path.join(subdir, file),sr = SAMPLE_RATE)\n",
    "            \n",
    "            for i in range(num_seg):\n",
    "                start = (sr * 30) + (i * SAMPLES_PER_SEGMENT)\n",
    "                end = start + SAMPLES_PER_SEGMENT\n",
    "                cur_mfcc = librosa.feature.mfcc(y = audio[start:end],\n",
    "                                               sr = sr,\n",
    "                                               n_mfcc = 13,\n",
    "                                               n_fft = 2048,\n",
    "                                               hop_length = 512)\n",
    "                \n",
    "                \n",
    "                zcr = librosa.feature.zero_crossing_rate(audio[start:end]).tolist()\n",
    "\n",
    "                #Store the MFCC of the audio segment \n",
    "                data[\"mfccs\"].append(cur_mfcc.T.tolist())\n",
    "                data[\"zrc\"].append(zcr)\n",
    "                data[\"labels\"].append(cur_label)\n",
    "# Save json file            \n",
    "with open(json_path, \"w\") as json_file:\n",
    "    json.dump(data,json_file, indent = 4)"
   ]
  },
  {
   "cell_type": "code",
   "execution_count": 25,
   "id": "165e6a65",
   "metadata": {},
   "outputs": [],
   "source": []
  },
  {
   "cell_type": "code",
   "execution_count": null,
   "id": "4b1c2751",
   "metadata": {},
   "outputs": [],
   "source": []
  }
 ],
 "metadata": {
  "kernelspec": {
   "display_name": "Python 3 (ipykernel)",
   "language": "python",
   "name": "python3"
  },
  "language_info": {
   "codemirror_mode": {
    "name": "ipython",
    "version": 3
   },
   "file_extension": ".py",
   "mimetype": "text/x-python",
   "name": "python",
   "nbconvert_exporter": "python",
   "pygments_lexer": "ipython3",
   "version": "3.9.16"
  }
 },
 "nbformat": 4,
 "nbformat_minor": 5
}
